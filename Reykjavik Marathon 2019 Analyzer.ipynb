{
 "cells": [
  {
   "cell_type": "markdown",
   "metadata": {},
   "source": [
    "I'm a long distance runner in my personal life, and in 2019, I ran for Reykjavik Marathon. \n",
    "\n",
    "I was aiming to run it in under 3 hours (known as \"sub-3\"), but I failed and ended up being a sub-4 runner for the marathon.\n",
    "I was on a good pace even after the half point, but somewhere around 30k, I got cramps and lost speed.\n",
    "As a tendency, do sub-3 runners maintain the same-level speed all the way through?\n",
    "Or do they also have a slower pace after around the same point as I did? I'd love to check in order to become a stronger runner with some insights!"
   ]
  },
  {
   "cell_type": "markdown",
   "metadata": {},
   "source": [
    "In Reykjavik Marathon, they record split times at 29.4k. Let's check if the average running speed is significantly different before and after this point. \n",
    "\n",
    "- Null hypothesis 1: The difference between the average running speed before and after 29.4k among the sub-3 runners is zero.\n",
    "- Althernative hypothesis 1: The average running speed before and after 29.4k among the sub-3 runners is different.　\n",
    "- α: 0.05\n",
    "\n",
    "\n",
    "- Null hypothesis 2: The difference between the average running speed before and after 29.4k among the sub-4 runners is zero.\n",
    "- Althernative hypothesis 2: The average running speed before and after 29.4k among the sub-4 runners is different.　\n",
    "- α: 0.05"
   ]
  },
  {
   "cell_type": "markdown",
   "metadata": {},
   "source": [
    "## Data loading"
   ]
  },
  {
   "cell_type": "code",
   "execution_count": 1,
   "metadata": {},
   "outputs": [
    {
     "data": {
      "text/plain": [
       "[      Rank   BIB                        Name Unnamed: 3   YOB Nat.  \\\n",
       " 0        1  1200             Arnar Pétursson          M  1991  ISL   \n",
       " 1        2  1700            Brian Petrocelli          M  1977  USA   \n",
       " 2        3   403               Drake Vidrine          M  1974  USA   \n",
       " 3        4   399    Sigurjón Ernir Sturluson          M  1990  ISL   \n",
       " 4        5   417         GEORGIOS TSIGERIDIS          M  1982  GRC   \n",
       " ...    ...   ...                         ...        ...   ...  ...   \n",
       " 1168  1169  1528            MARCELLINO ISOLI          M  1958  ITA   \n",
       " 1169  1170  1380  Puttachart Charapattanakul          F  1967  THA   \n",
       " 1170  1171  1702                 Frank Smits          M  1965  NLD   \n",
       " 1171  1172  1002        Nancy Anne Calderone          F  1991  USA   \n",
       " 1172  1173   360  Áslaug Heiða Gunnarsdóttir          F  1983  ISL   \n",
       " \n",
       "                          Club  \\\n",
       " 0                          ÍR   \n",
       " 1                         NaN   \n",
       " 2           Kansas City Smoke   \n",
       " 3            2XU / On Running   \n",
       " 4     AGS NEAS IONIAS ANATOLI   \n",
       " ...                       ...   \n",
       " 1168                      NaN   \n",
       " 1169                      NaN   \n",
       " 1170                      NaN   \n",
       " 1171                      NaN   \n",
       " 1172                       KR   \n",
       " \n",
       "                                                   Split           Time  \\\n",
       " 0     00:16:45 (5 km)00:33:32 (10 km)00:54:24 (16,4 ...       02:23:08   \n",
       " 1     00:18:55 (5 km)00:37:25 (10 km)01:00:11 (16,4 ...       02:38:20   \n",
       " 2     00:19:37 (5 km)00:38:47 (10 km)01:02:36 (16,4 ...       02:44:45   \n",
       " 3     00:19:41 (5 km)00:39:22 (10 km)01:03:44 (16,4 ...       02:45:40   \n",
       " 4     00:19:16 (5 km)00:38:20 (10 km)01:02:13 (16,4 ...       02:47:08   \n",
       " ...                                                 ...            ...   \n",
       " 1168  00:42:03 (5 km)01:24:40 (10 km)02:16:48 (16,4 ...       07:06:53   \n",
       " 1169  00:44:48 (5 km)01:29:48 (10 km)02:27:27 (16,4 ...       07:07:51   \n",
       " 1170  00:49:39 (5 km)01:36:32 (10 km)02:41:43 (16,4 ...       07:16:37   \n",
       " 1171  00:49:00 (5 km)01:34:38 (10 km)02:37:05 (16,4 ...       07:28:29   \n",
       " 1172  00:42:28 (5 km)01:18:39 (10 km)02:04:15 (16,4 ...  est. 05:43:03   \n",
       " \n",
       "          Behind  Chiptime  \n",
       " 0           NaN  02:23:07  \n",
       " 1        +15:12  02:38:16  \n",
       " 2        +21:37  02:44:41  \n",
       " 3        +22:32  02:45:38  \n",
       " 4        +24:00  02:47:07  \n",
       " ...         ...       ...  \n",
       " 1168  +04:43:45  07:06:04  \n",
       " 1169  +04:44:43  07:04:56  \n",
       " 1170  +04:53:29  07:13:56  \n",
       " 1171  +05:05:21  07:23:34  \n",
       " 1172        NaN       NaN  \n",
       " \n",
       " [1173 rows x 11 columns],\n",
       "     Unnamed: 0   BIB                          Name  Year  \\\n",
       " 0          NaN  1282         Bjarni Ármann Atlason  1998   \n",
       " 1          NaN  1355         Kristinn Ingi Jónsson  1993   \n",
       " 2          NaN   879      Patrik Uni Lindberg Izev  2001   \n",
       " 3          NaN  1273            Reynir Guðmundsson  1960   \n",
       " 4          NaN   873             Marco Michieletto  1972   \n",
       " 5          NaN   702                Joseph Roberts  1982   \n",
       " 6          NaN   694              Lorraine Roberts  1983   \n",
       " 7          NaN  1353  Hafliði Hjartar Sigurdórsson  1977   \n",
       " 8          NaN  1274      Steingerður Hreinsdóttir  1970   \n",
       " 9          NaN   735   Bergsteinn Kristján Árnason  1992   \n",
       " 10         NaN   534                  Rick Huggins  1957   \n",
       " \n",
       "                               Club Unnamed: 5  \n",
       " 0           Harvard Triathlon Club        DNF  \n",
       " 1                              NaN        DNF  \n",
       " 2                              NaN        DNF  \n",
       " 3   Frískir Flóamenn / Bjarnfreður        DNF  \n",
       " 4                              NaN        DNF  \n",
       " 5                              NaN        DNF  \n",
       " 6                              NaN        DNF  \n",
       " 7                              NaN        DNF  \n",
       " 8                              NaN        DNF  \n",
       " 9                       Refalestin        DNF  \n",
       " 10                             NaN        DNF  ]"
      ]
     },
     "execution_count": 1,
     "metadata": {},
     "output_type": "execute_result"
    }
   ],
   "source": [
    "import numpy as np\n",
    "import pandas as pd\n",
    "import matplotlib.pyplot as plt\n",
    "import seaborn as sns\n",
    "sns.set()\n",
    "\n",
    "url = 'https://timataka.net/reykjavikurmarathon2019/urslit/?race=1&cat=overall' # Results from Reykjavik Marathon 2019\n",
    "df_lists = pd.io.html.read_html(url)\n",
    "df_lists"
   ]
  },
  {
   "cell_type": "code",
   "execution_count": 2,
   "metadata": {},
   "outputs": [
    {
     "data": {
      "text/html": [
       "<div>\n",
       "<style scoped>\n",
       "    .dataframe tbody tr th:only-of-type {\n",
       "        vertical-align: middle;\n",
       "    }\n",
       "\n",
       "    .dataframe tbody tr th {\n",
       "        vertical-align: top;\n",
       "    }\n",
       "\n",
       "    .dataframe thead th {\n",
       "        text-align: right;\n",
       "    }\n",
       "</style>\n",
       "<table border=\"1\" class=\"dataframe\">\n",
       "  <thead>\n",
       "    <tr style=\"text-align: right;\">\n",
       "      <th></th>\n",
       "      <th>Rank</th>\n",
       "      <th>BIB</th>\n",
       "      <th>Name</th>\n",
       "      <th>Unnamed: 3</th>\n",
       "      <th>YOB</th>\n",
       "      <th>Nat.</th>\n",
       "      <th>Club</th>\n",
       "      <th>Split</th>\n",
       "      <th>Time</th>\n",
       "      <th>Behind</th>\n",
       "      <th>Chiptime</th>\n",
       "    </tr>\n",
       "  </thead>\n",
       "  <tbody>\n",
       "    <tr>\n",
       "      <th>0</th>\n",
       "      <td>1</td>\n",
       "      <td>1200</td>\n",
       "      <td>Arnar Pétursson</td>\n",
       "      <td>M</td>\n",
       "      <td>1991</td>\n",
       "      <td>ISL</td>\n",
       "      <td>ÍR</td>\n",
       "      <td>00:16:45 (5 km)00:33:32 (10 km)00:54:24 (16,4 ...</td>\n",
       "      <td>02:23:08</td>\n",
       "      <td>NaN</td>\n",
       "      <td>02:23:07</td>\n",
       "    </tr>\n",
       "    <tr>\n",
       "      <th>1</th>\n",
       "      <td>2</td>\n",
       "      <td>1700</td>\n",
       "      <td>Brian Petrocelli</td>\n",
       "      <td>M</td>\n",
       "      <td>1977</td>\n",
       "      <td>USA</td>\n",
       "      <td>NaN</td>\n",
       "      <td>00:18:55 (5 km)00:37:25 (10 km)01:00:11 (16,4 ...</td>\n",
       "      <td>02:38:20</td>\n",
       "      <td>+15:12</td>\n",
       "      <td>02:38:16</td>\n",
       "    </tr>\n",
       "    <tr>\n",
       "      <th>2</th>\n",
       "      <td>3</td>\n",
       "      <td>403</td>\n",
       "      <td>Drake Vidrine</td>\n",
       "      <td>M</td>\n",
       "      <td>1974</td>\n",
       "      <td>USA</td>\n",
       "      <td>Kansas City Smoke</td>\n",
       "      <td>00:19:37 (5 km)00:38:47 (10 km)01:02:36 (16,4 ...</td>\n",
       "      <td>02:44:45</td>\n",
       "      <td>+21:37</td>\n",
       "      <td>02:44:41</td>\n",
       "    </tr>\n",
       "    <tr>\n",
       "      <th>3</th>\n",
       "      <td>4</td>\n",
       "      <td>399</td>\n",
       "      <td>Sigurjón Ernir Sturluson</td>\n",
       "      <td>M</td>\n",
       "      <td>1990</td>\n",
       "      <td>ISL</td>\n",
       "      <td>2XU / On Running</td>\n",
       "      <td>00:19:41 (5 km)00:39:22 (10 km)01:03:44 (16,4 ...</td>\n",
       "      <td>02:45:40</td>\n",
       "      <td>+22:32</td>\n",
       "      <td>02:45:38</td>\n",
       "    </tr>\n",
       "    <tr>\n",
       "      <th>4</th>\n",
       "      <td>5</td>\n",
       "      <td>417</td>\n",
       "      <td>GEORGIOS TSIGERIDIS</td>\n",
       "      <td>M</td>\n",
       "      <td>1982</td>\n",
       "      <td>GRC</td>\n",
       "      <td>AGS NEAS IONIAS ANATOLI</td>\n",
       "      <td>00:19:16 (5 km)00:38:20 (10 km)01:02:13 (16,4 ...</td>\n",
       "      <td>02:47:08</td>\n",
       "      <td>+24:00</td>\n",
       "      <td>02:47:07</td>\n",
       "    </tr>\n",
       "    <tr>\n",
       "      <th>...</th>\n",
       "      <td>...</td>\n",
       "      <td>...</td>\n",
       "      <td>...</td>\n",
       "      <td>...</td>\n",
       "      <td>...</td>\n",
       "      <td>...</td>\n",
       "      <td>...</td>\n",
       "      <td>...</td>\n",
       "      <td>...</td>\n",
       "      <td>...</td>\n",
       "      <td>...</td>\n",
       "    </tr>\n",
       "    <tr>\n",
       "      <th>450</th>\n",
       "      <td>451</td>\n",
       "      <td>1202</td>\n",
       "      <td>Scott Jarvis</td>\n",
       "      <td>M</td>\n",
       "      <td>1984</td>\n",
       "      <td>GBR</td>\n",
       "      <td>Altrincham</td>\n",
       "      <td>00:32:23 (5 km)01:00:04 (10 km)01:32:48 (16,4 ...</td>\n",
       "      <td>03:59:46</td>\n",
       "      <td>+01:36:38</td>\n",
       "      <td>03:56:52</td>\n",
       "    </tr>\n",
       "    <tr>\n",
       "      <th>451</th>\n",
       "      <td>452</td>\n",
       "      <td>1521</td>\n",
       "      <td>Torben Immisch</td>\n",
       "      <td>M</td>\n",
       "      <td>1969</td>\n",
       "      <td>DNK</td>\n",
       "      <td>Mikkeller Running Club</td>\n",
       "      <td>00:29:29 (5 km)00:56:44 (10 km)01:30:53 (16,4 ...</td>\n",
       "      <td>03:59:48</td>\n",
       "      <td>+01:36:40</td>\n",
       "      <td>03:58:07</td>\n",
       "    </tr>\n",
       "    <tr>\n",
       "      <th>452</th>\n",
       "      <td>453</td>\n",
       "      <td>1131</td>\n",
       "      <td>Adam Naser</td>\n",
       "      <td>M</td>\n",
       "      <td>1979</td>\n",
       "      <td>DNK</td>\n",
       "      <td>Mikkeller Running Club</td>\n",
       "      <td>00:29:29 (5 km)00:56:45 (10 km)01:30:54 (16,4 ...</td>\n",
       "      <td>03:59:49</td>\n",
       "      <td>+01:36:41</td>\n",
       "      <td>03:58:08</td>\n",
       "    </tr>\n",
       "    <tr>\n",
       "      <th>453</th>\n",
       "      <td>454</td>\n",
       "      <td>754</td>\n",
       "      <td>Stefan Dr. Sattler</td>\n",
       "      <td>M</td>\n",
       "      <td>1965</td>\n",
       "      <td>DEU</td>\n",
       "      <td>Sportlich-Team Bornheim</td>\n",
       "      <td>00:30:01 (5 km)00:57:57 (10 km)01:33:13 (16,4 ...</td>\n",
       "      <td>03:59:54</td>\n",
       "      <td>+01:36:46</td>\n",
       "      <td>03:58:14</td>\n",
       "    </tr>\n",
       "    <tr>\n",
       "      <th>454</th>\n",
       "      <td>455</td>\n",
       "      <td>1033</td>\n",
       "      <td>William Wilson</td>\n",
       "      <td>M</td>\n",
       "      <td>1967</td>\n",
       "      <td>USA</td>\n",
       "      <td>NaN</td>\n",
       "      <td>00:31:49 (5 km)01:00:01 (10 km)01:34:41 (16,4 ...</td>\n",
       "      <td>03:59:54</td>\n",
       "      <td>+01:36:46</td>\n",
       "      <td>03:56:52</td>\n",
       "    </tr>\n",
       "  </tbody>\n",
       "</table>\n",
       "<p>455 rows × 11 columns</p>\n",
       "</div>"
      ],
      "text/plain": [
       "     Rank   BIB                      Name Unnamed: 3   YOB Nat.  \\\n",
       "0       1  1200           Arnar Pétursson          M  1991  ISL   \n",
       "1       2  1700          Brian Petrocelli          M  1977  USA   \n",
       "2       3   403             Drake Vidrine          M  1974  USA   \n",
       "3       4   399  Sigurjón Ernir Sturluson          M  1990  ISL   \n",
       "4       5   417       GEORGIOS TSIGERIDIS          M  1982  GRC   \n",
       "..    ...   ...                       ...        ...   ...  ...   \n",
       "450   451  1202              Scott Jarvis          M  1984  GBR   \n",
       "451   452  1521            Torben Immisch          M  1969  DNK   \n",
       "452   453  1131                Adam Naser          M  1979  DNK   \n",
       "453   454   754        Stefan Dr. Sattler          M  1965  DEU   \n",
       "454   455  1033            William Wilson          M  1967  USA   \n",
       "\n",
       "                        Club  \\\n",
       "0                         ÍR   \n",
       "1                        NaN   \n",
       "2          Kansas City Smoke   \n",
       "3           2XU / On Running   \n",
       "4    AGS NEAS IONIAS ANATOLI   \n",
       "..                       ...   \n",
       "450               Altrincham   \n",
       "451   Mikkeller Running Club   \n",
       "452   Mikkeller Running Club   \n",
       "453  Sportlich-Team Bornheim   \n",
       "454                      NaN   \n",
       "\n",
       "                                                 Split      Time     Behind  \\\n",
       "0    00:16:45 (5 km)00:33:32 (10 km)00:54:24 (16,4 ...  02:23:08        NaN   \n",
       "1    00:18:55 (5 km)00:37:25 (10 km)01:00:11 (16,4 ...  02:38:20     +15:12   \n",
       "2    00:19:37 (5 km)00:38:47 (10 km)01:02:36 (16,4 ...  02:44:45     +21:37   \n",
       "3    00:19:41 (5 km)00:39:22 (10 km)01:03:44 (16,4 ...  02:45:40     +22:32   \n",
       "4    00:19:16 (5 km)00:38:20 (10 km)01:02:13 (16,4 ...  02:47:08     +24:00   \n",
       "..                                                 ...       ...        ...   \n",
       "450  00:32:23 (5 km)01:00:04 (10 km)01:32:48 (16,4 ...  03:59:46  +01:36:38   \n",
       "451  00:29:29 (5 km)00:56:44 (10 km)01:30:53 (16,4 ...  03:59:48  +01:36:40   \n",
       "452  00:29:29 (5 km)00:56:45 (10 km)01:30:54 (16,4 ...  03:59:49  +01:36:41   \n",
       "453  00:30:01 (5 km)00:57:57 (10 km)01:33:13 (16,4 ...  03:59:54  +01:36:46   \n",
       "454  00:31:49 (5 km)01:00:01 (10 km)01:34:41 (16,4 ...  03:59:54  +01:36:46   \n",
       "\n",
       "     Chiptime  \n",
       "0    02:23:07  \n",
       "1    02:38:16  \n",
       "2    02:44:41  \n",
       "3    02:45:38  \n",
       "4    02:47:07  \n",
       "..        ...  \n",
       "450  03:56:52  \n",
       "451  03:58:07  \n",
       "452  03:58:08  \n",
       "453  03:58:14  \n",
       "454  03:56:52  \n",
       "\n",
       "[455 rows x 11 columns]"
      ]
     },
     "execution_count": 2,
     "metadata": {},
     "output_type": "execute_result"
    }
   ],
   "source": [
    "# Extract the sub-3 and sub-4 runners only\n",
    "target_runners = df_lists[0][df_lists[0]['Time']<'04:00:00']\n",
    "target_runners"
   ]
  },
  {
   "cell_type": "markdown",
   "metadata": {},
   "source": [
    "## Data cleansing"
   ]
  },
  {
   "cell_type": "markdown",
   "metadata": {},
   "source": [
    "It looks from the race result page that a few runners missed some internal records. I would like to omit rows with such data to compare records on the same ground. The correct number of intermediate results in this case is 6 (5 km, 10km, 16.4 km, 21.1km, 29.4 km, 38 km).　I will use the regular expression ```\\([0-9]*\\skm\\)| \\([0-9]*,[0-9]*\\skm\\``` to omit the \"(x km)\" parts. It will split each record in \"Split\" 6 times, which will make the number of elements 7, with a space at the end."
   ]
  },
  {
   "cell_type": "code",
   "execution_count": 3,
   "metadata": {},
   "outputs": [
    {
     "name": "stdout",
     "output_type": "stream",
     "text": [
      "[283, 632, 468]\n"
     ]
    }
   ],
   "source": [
    "import re\n",
    "\n",
    "ir_list = []\n",
    "reg = ' \\([0-9]*\\skm\\)| \\([0-9]*,[0-9]*\\skm\\)'\n",
    "\n",
    "# Find out the BIBs of irregular records\n",
    "for count, value in enumerate(target_runners['Split']):\n",
    "    splits = re.split(reg, value)\n",
    "    if len(splits) != 7:\n",
    "        ir_list.append(target_runners.loc[count]['BIB'])\n",
    "print(ir_list)"
   ]
  },
  {
   "cell_type": "code",
   "execution_count": 4,
   "metadata": {},
   "outputs": [
    {
     "data": {
      "text/html": [
       "<div>\n",
       "<style scoped>\n",
       "    .dataframe tbody tr th:only-of-type {\n",
       "        vertical-align: middle;\n",
       "    }\n",
       "\n",
       "    .dataframe tbody tr th {\n",
       "        vertical-align: top;\n",
       "    }\n",
       "\n",
       "    .dataframe thead th {\n",
       "        text-align: right;\n",
       "    }\n",
       "</style>\n",
       "<table border=\"1\" class=\"dataframe\">\n",
       "  <thead>\n",
       "    <tr style=\"text-align: right;\">\n",
       "      <th></th>\n",
       "      <th>Rank</th>\n",
       "      <th>BIB</th>\n",
       "      <th>Name</th>\n",
       "      <th>Unnamed: 3</th>\n",
       "      <th>YOB</th>\n",
       "      <th>Nat.</th>\n",
       "      <th>Club</th>\n",
       "      <th>Split</th>\n",
       "      <th>Time</th>\n",
       "      <th>Behind</th>\n",
       "      <th>Chiptime</th>\n",
       "    </tr>\n",
       "  </thead>\n",
       "  <tbody>\n",
       "    <tr>\n",
       "      <th>0</th>\n",
       "      <td>1</td>\n",
       "      <td>1200</td>\n",
       "      <td>Arnar Pétursson</td>\n",
       "      <td>M</td>\n",
       "      <td>1991</td>\n",
       "      <td>ISL</td>\n",
       "      <td>ÍR</td>\n",
       "      <td>00:16:45 (5 km)00:33:32 (10 km)00:54:24 (16,4 ...</td>\n",
       "      <td>02:23:08</td>\n",
       "      <td>NaN</td>\n",
       "      <td>02:23:07</td>\n",
       "    </tr>\n",
       "    <tr>\n",
       "      <th>1</th>\n",
       "      <td>2</td>\n",
       "      <td>1700</td>\n",
       "      <td>Brian Petrocelli</td>\n",
       "      <td>M</td>\n",
       "      <td>1977</td>\n",
       "      <td>USA</td>\n",
       "      <td>NaN</td>\n",
       "      <td>00:18:55 (5 km)00:37:25 (10 km)01:00:11 (16,4 ...</td>\n",
       "      <td>02:38:20</td>\n",
       "      <td>+15:12</td>\n",
       "      <td>02:38:16</td>\n",
       "    </tr>\n",
       "    <tr>\n",
       "      <th>2</th>\n",
       "      <td>3</td>\n",
       "      <td>403</td>\n",
       "      <td>Drake Vidrine</td>\n",
       "      <td>M</td>\n",
       "      <td>1974</td>\n",
       "      <td>USA</td>\n",
       "      <td>Kansas City Smoke</td>\n",
       "      <td>00:19:37 (5 km)00:38:47 (10 km)01:02:36 (16,4 ...</td>\n",
       "      <td>02:44:45</td>\n",
       "      <td>+21:37</td>\n",
       "      <td>02:44:41</td>\n",
       "    </tr>\n",
       "    <tr>\n",
       "      <th>3</th>\n",
       "      <td>4</td>\n",
       "      <td>399</td>\n",
       "      <td>Sigurjón Ernir Sturluson</td>\n",
       "      <td>M</td>\n",
       "      <td>1990</td>\n",
       "      <td>ISL</td>\n",
       "      <td>2XU / On Running</td>\n",
       "      <td>00:19:41 (5 km)00:39:22 (10 km)01:03:44 (16,4 ...</td>\n",
       "      <td>02:45:40</td>\n",
       "      <td>+22:32</td>\n",
       "      <td>02:45:38</td>\n",
       "    </tr>\n",
       "    <tr>\n",
       "      <th>4</th>\n",
       "      <td>5</td>\n",
       "      <td>417</td>\n",
       "      <td>GEORGIOS TSIGERIDIS</td>\n",
       "      <td>M</td>\n",
       "      <td>1982</td>\n",
       "      <td>GRC</td>\n",
       "      <td>AGS NEAS IONIAS ANATOLI</td>\n",
       "      <td>00:19:16 (5 km)00:38:20 (10 km)01:02:13 (16,4 ...</td>\n",
       "      <td>02:47:08</td>\n",
       "      <td>+24:00</td>\n",
       "      <td>02:47:07</td>\n",
       "    </tr>\n",
       "    <tr>\n",
       "      <th>...</th>\n",
       "      <td>...</td>\n",
       "      <td>...</td>\n",
       "      <td>...</td>\n",
       "      <td>...</td>\n",
       "      <td>...</td>\n",
       "      <td>...</td>\n",
       "      <td>...</td>\n",
       "      <td>...</td>\n",
       "      <td>...</td>\n",
       "      <td>...</td>\n",
       "      <td>...</td>\n",
       "    </tr>\n",
       "    <tr>\n",
       "      <th>450</th>\n",
       "      <td>451</td>\n",
       "      <td>1202</td>\n",
       "      <td>Scott Jarvis</td>\n",
       "      <td>M</td>\n",
       "      <td>1984</td>\n",
       "      <td>GBR</td>\n",
       "      <td>Altrincham</td>\n",
       "      <td>00:32:23 (5 km)01:00:04 (10 km)01:32:48 (16,4 ...</td>\n",
       "      <td>03:59:46</td>\n",
       "      <td>+01:36:38</td>\n",
       "      <td>03:56:52</td>\n",
       "    </tr>\n",
       "    <tr>\n",
       "      <th>451</th>\n",
       "      <td>452</td>\n",
       "      <td>1521</td>\n",
       "      <td>Torben Immisch</td>\n",
       "      <td>M</td>\n",
       "      <td>1969</td>\n",
       "      <td>DNK</td>\n",
       "      <td>Mikkeller Running Club</td>\n",
       "      <td>00:29:29 (5 km)00:56:44 (10 km)01:30:53 (16,4 ...</td>\n",
       "      <td>03:59:48</td>\n",
       "      <td>+01:36:40</td>\n",
       "      <td>03:58:07</td>\n",
       "    </tr>\n",
       "    <tr>\n",
       "      <th>452</th>\n",
       "      <td>453</td>\n",
       "      <td>1131</td>\n",
       "      <td>Adam Naser</td>\n",
       "      <td>M</td>\n",
       "      <td>1979</td>\n",
       "      <td>DNK</td>\n",
       "      <td>Mikkeller Running Club</td>\n",
       "      <td>00:29:29 (5 km)00:56:45 (10 km)01:30:54 (16,4 ...</td>\n",
       "      <td>03:59:49</td>\n",
       "      <td>+01:36:41</td>\n",
       "      <td>03:58:08</td>\n",
       "    </tr>\n",
       "    <tr>\n",
       "      <th>453</th>\n",
       "      <td>454</td>\n",
       "      <td>754</td>\n",
       "      <td>Stefan Dr. Sattler</td>\n",
       "      <td>M</td>\n",
       "      <td>1965</td>\n",
       "      <td>DEU</td>\n",
       "      <td>Sportlich-Team Bornheim</td>\n",
       "      <td>00:30:01 (5 km)00:57:57 (10 km)01:33:13 (16,4 ...</td>\n",
       "      <td>03:59:54</td>\n",
       "      <td>+01:36:46</td>\n",
       "      <td>03:58:14</td>\n",
       "    </tr>\n",
       "    <tr>\n",
       "      <th>454</th>\n",
       "      <td>455</td>\n",
       "      <td>1033</td>\n",
       "      <td>William Wilson</td>\n",
       "      <td>M</td>\n",
       "      <td>1967</td>\n",
       "      <td>USA</td>\n",
       "      <td>NaN</td>\n",
       "      <td>00:31:49 (5 km)01:00:01 (10 km)01:34:41 (16,4 ...</td>\n",
       "      <td>03:59:54</td>\n",
       "      <td>+01:36:46</td>\n",
       "      <td>03:56:52</td>\n",
       "    </tr>\n",
       "  </tbody>\n",
       "</table>\n",
       "<p>452 rows × 11 columns</p>\n",
       "</div>"
      ],
      "text/plain": [
       "     Rank   BIB                      Name Unnamed: 3   YOB Nat.  \\\n",
       "0       1  1200           Arnar Pétursson          M  1991  ISL   \n",
       "1       2  1700          Brian Petrocelli          M  1977  USA   \n",
       "2       3   403             Drake Vidrine          M  1974  USA   \n",
       "3       4   399  Sigurjón Ernir Sturluson          M  1990  ISL   \n",
       "4       5   417       GEORGIOS TSIGERIDIS          M  1982  GRC   \n",
       "..    ...   ...                       ...        ...   ...  ...   \n",
       "450   451  1202              Scott Jarvis          M  1984  GBR   \n",
       "451   452  1521            Torben Immisch          M  1969  DNK   \n",
       "452   453  1131                Adam Naser          M  1979  DNK   \n",
       "453   454   754        Stefan Dr. Sattler          M  1965  DEU   \n",
       "454   455  1033            William Wilson          M  1967  USA   \n",
       "\n",
       "                        Club  \\\n",
       "0                         ÍR   \n",
       "1                        NaN   \n",
       "2          Kansas City Smoke   \n",
       "3           2XU / On Running   \n",
       "4    AGS NEAS IONIAS ANATOLI   \n",
       "..                       ...   \n",
       "450               Altrincham   \n",
       "451   Mikkeller Running Club   \n",
       "452   Mikkeller Running Club   \n",
       "453  Sportlich-Team Bornheim   \n",
       "454                      NaN   \n",
       "\n",
       "                                                 Split      Time     Behind  \\\n",
       "0    00:16:45 (5 km)00:33:32 (10 km)00:54:24 (16,4 ...  02:23:08        NaN   \n",
       "1    00:18:55 (5 km)00:37:25 (10 km)01:00:11 (16,4 ...  02:38:20     +15:12   \n",
       "2    00:19:37 (5 km)00:38:47 (10 km)01:02:36 (16,4 ...  02:44:45     +21:37   \n",
       "3    00:19:41 (5 km)00:39:22 (10 km)01:03:44 (16,4 ...  02:45:40     +22:32   \n",
       "4    00:19:16 (5 km)00:38:20 (10 km)01:02:13 (16,4 ...  02:47:08     +24:00   \n",
       "..                                                 ...       ...        ...   \n",
       "450  00:32:23 (5 km)01:00:04 (10 km)01:32:48 (16,4 ...  03:59:46  +01:36:38   \n",
       "451  00:29:29 (5 km)00:56:44 (10 km)01:30:53 (16,4 ...  03:59:48  +01:36:40   \n",
       "452  00:29:29 (5 km)00:56:45 (10 km)01:30:54 (16,4 ...  03:59:49  +01:36:41   \n",
       "453  00:30:01 (5 km)00:57:57 (10 km)01:33:13 (16,4 ...  03:59:54  +01:36:46   \n",
       "454  00:31:49 (5 km)01:00:01 (10 km)01:34:41 (16,4 ...  03:59:54  +01:36:46   \n",
       "\n",
       "     Chiptime  \n",
       "0    02:23:07  \n",
       "1    02:38:16  \n",
       "2    02:44:41  \n",
       "3    02:45:38  \n",
       "4    02:47:07  \n",
       "..        ...  \n",
       "450  03:56:52  \n",
       "451  03:58:07  \n",
       "452  03:58:08  \n",
       "453  03:58:14  \n",
       "454  03:56:52  \n",
       "\n",
       "[452 rows x 11 columns]"
      ]
     },
     "execution_count": 4,
     "metadata": {},
     "output_type": "execute_result"
    }
   ],
   "source": [
    " # Omit the irregular data\n",
    "cleansed_df = target_runners[~target_runners['BIB'].isin(ir_list)]\n",
    "cleansed_df"
   ]
  },
  {
   "cell_type": "code",
   "execution_count": 5,
   "metadata": {},
   "outputs": [
    {
     "data": {
      "text/plain": [
       "0      [00:16:45, 00:33:32, 00:54:24, 01:11:21, 01:39...\n",
       "1      [00:18:55, 00:37:25, 01:00:11, 01:18:45, 01:50...\n",
       "2      [00:19:37, 00:38:47, 01:02:36, 01:21:42, 01:54...\n",
       "3      [00:19:41, 00:39:22, 01:03:44, 01:23:15, 01:55...\n",
       "4      [00:19:16, 00:38:20, 01:02:13, 01:21:42, 01:54...\n",
       "                             ...                        \n",
       "450    [00:32:23, 01:00:04, 01:32:48, 01:58:16, 02:41...\n",
       "451    [00:29:29, 00:56:44, 01:30:53, 01:58:15, 02:45...\n",
       "452    [00:29:29, 00:56:45, 01:30:54, 01:58:15, 02:45...\n",
       "453    [00:30:01, 00:57:57, 01:33:13, 02:00:38, 02:47...\n",
       "454    [00:31:49, 01:00:01, 01:34:41, 02:02:24, 02:49...\n",
       "Name: Split, Length: 452, dtype: object"
      ]
     },
     "execution_count": 5,
     "metadata": {},
     "output_type": "execute_result"
    }
   ],
   "source": [
    "#　Split the intermediate　records by each record point\n",
    "cleansed_splits = cleansed_df['Split'].str.split(reg)\n",
    "cleansed_splits"
   ]
  },
  {
   "cell_type": "code",
   "execution_count": 6,
   "metadata": {},
   "outputs": [],
   "source": [
    "# Function to convert each time record to seconds\n",
    "def time_to_second(ls):\n",
    "    seconds = []\n",
    "    for i in ls:\n",
    "        t = pd.to_datetime(i)\n",
    "        t = (t.hour * 60 + t.minute) * 60 + t.second\n",
    "        seconds.append(t)\n",
    "    return seconds"
   ]
  },
  {
   "cell_type": "code",
   "execution_count": 7,
   "metadata": {},
   "outputs": [],
   "source": [
    "splits_in_sec = time_to_second(cleansed_splits)\n",
    "fin_in_sec = time_to_second(cleansed_df['Time'])"
   ]
  },
  {
   "cell_type": "markdown",
   "metadata": {},
   "source": [
    "Now I'm ready to put split times and finish times into a table."
   ]
  },
  {
   "cell_type": "code",
   "execution_count": 8,
   "metadata": {},
   "outputs": [
    {
     "data": {
      "text/html": [
       "<div>\n",
       "<style scoped>\n",
       "    .dataframe tbody tr th:only-of-type {\n",
       "        vertical-align: middle;\n",
       "    }\n",
       "\n",
       "    .dataframe tbody tr th {\n",
       "        vertical-align: top;\n",
       "    }\n",
       "\n",
       "    .dataframe thead th {\n",
       "        text-align: right;\n",
       "    }\n",
       "</style>\n",
       "<table border=\"1\" class=\"dataframe\">\n",
       "  <thead>\n",
       "    <tr style=\"text-align: right;\">\n",
       "      <th></th>\n",
       "      <th>5k</th>\n",
       "      <th>10k</th>\n",
       "      <th>16.4k</th>\n",
       "      <th>21.1k</th>\n",
       "      <th>29.4k</th>\n",
       "      <th>38k</th>\n",
       "      <th>42.195k</th>\n",
       "    </tr>\n",
       "  </thead>\n",
       "  <tbody>\n",
       "    <tr>\n",
       "      <th>0</th>\n",
       "      <td>1005.0</td>\n",
       "      <td>2012.0</td>\n",
       "      <td>3264.0</td>\n",
       "      <td>4281.0</td>\n",
       "      <td>5966.0</td>\n",
       "      <td>7746.0</td>\n",
       "      <td>8588</td>\n",
       "    </tr>\n",
       "    <tr>\n",
       "      <th>1</th>\n",
       "      <td>1135.0</td>\n",
       "      <td>2245.0</td>\n",
       "      <td>3611.0</td>\n",
       "      <td>4725.0</td>\n",
       "      <td>6602.0</td>\n",
       "      <td>8566.0</td>\n",
       "      <td>9500</td>\n",
       "    </tr>\n",
       "    <tr>\n",
       "      <th>2</th>\n",
       "      <td>1177.0</td>\n",
       "      <td>2327.0</td>\n",
       "      <td>3756.0</td>\n",
       "      <td>4902.0</td>\n",
       "      <td>6850.0</td>\n",
       "      <td>8880.0</td>\n",
       "      <td>9885</td>\n",
       "    </tr>\n",
       "    <tr>\n",
       "      <th>3</th>\n",
       "      <td>1181.0</td>\n",
       "      <td>2362.0</td>\n",
       "      <td>3824.0</td>\n",
       "      <td>4995.0</td>\n",
       "      <td>6944.0</td>\n",
       "      <td>8979.0</td>\n",
       "      <td>9940</td>\n",
       "    </tr>\n",
       "    <tr>\n",
       "      <th>4</th>\n",
       "      <td>1156.0</td>\n",
       "      <td>2300.0</td>\n",
       "      <td>3733.0</td>\n",
       "      <td>4902.0</td>\n",
       "      <td>6849.0</td>\n",
       "      <td>8977.0</td>\n",
       "      <td>10028</td>\n",
       "    </tr>\n",
       "    <tr>\n",
       "      <th>...</th>\n",
       "      <td>...</td>\n",
       "      <td>...</td>\n",
       "      <td>...</td>\n",
       "      <td>...</td>\n",
       "      <td>...</td>\n",
       "      <td>...</td>\n",
       "      <td>...</td>\n",
       "    </tr>\n",
       "    <tr>\n",
       "      <th>447</th>\n",
       "      <td>1943.0</td>\n",
       "      <td>3604.0</td>\n",
       "      <td>5568.0</td>\n",
       "      <td>7096.0</td>\n",
       "      <td>9663.0</td>\n",
       "      <td>12958.0</td>\n",
       "      <td>14386</td>\n",
       "    </tr>\n",
       "    <tr>\n",
       "      <th>448</th>\n",
       "      <td>1769.0</td>\n",
       "      <td>3404.0</td>\n",
       "      <td>5453.0</td>\n",
       "      <td>7095.0</td>\n",
       "      <td>9904.0</td>\n",
       "      <td>13002.0</td>\n",
       "      <td>14388</td>\n",
       "    </tr>\n",
       "    <tr>\n",
       "      <th>449</th>\n",
       "      <td>1769.0</td>\n",
       "      <td>3405.0</td>\n",
       "      <td>5454.0</td>\n",
       "      <td>7095.0</td>\n",
       "      <td>9904.0</td>\n",
       "      <td>13004.0</td>\n",
       "      <td>14389</td>\n",
       "    </tr>\n",
       "    <tr>\n",
       "      <th>450</th>\n",
       "      <td>1801.0</td>\n",
       "      <td>3477.0</td>\n",
       "      <td>5593.0</td>\n",
       "      <td>7238.0</td>\n",
       "      <td>10022.0</td>\n",
       "      <td>13020.0</td>\n",
       "      <td>14394</td>\n",
       "    </tr>\n",
       "    <tr>\n",
       "      <th>451</th>\n",
       "      <td>1909.0</td>\n",
       "      <td>3601.0</td>\n",
       "      <td>5681.0</td>\n",
       "      <td>7344.0</td>\n",
       "      <td>10165.0</td>\n",
       "      <td>13123.0</td>\n",
       "      <td>14394</td>\n",
       "    </tr>\n",
       "  </tbody>\n",
       "</table>\n",
       "<p>452 rows × 7 columns</p>\n",
       "</div>"
      ],
      "text/plain": [
       "         5k     10k   16.4k   21.1k    29.4k      38k  42.195k\n",
       "0    1005.0  2012.0  3264.0  4281.0   5966.0   7746.0     8588\n",
       "1    1135.0  2245.0  3611.0  4725.0   6602.0   8566.0     9500\n",
       "2    1177.0  2327.0  3756.0  4902.0   6850.0   8880.0     9885\n",
       "3    1181.0  2362.0  3824.0  4995.0   6944.0   8979.0     9940\n",
       "4    1156.0  2300.0  3733.0  4902.0   6849.0   8977.0    10028\n",
       "..      ...     ...     ...     ...      ...      ...      ...\n",
       "447  1943.0  3604.0  5568.0  7096.0   9663.0  12958.0    14386\n",
       "448  1769.0  3404.0  5453.0  7095.0   9904.0  13002.0    14388\n",
       "449  1769.0  3405.0  5454.0  7095.0   9904.0  13004.0    14389\n",
       "450  1801.0  3477.0  5593.0  7238.0  10022.0  13020.0    14394\n",
       "451  1909.0  3601.0  5681.0  7344.0  10165.0  13123.0    14394\n",
       "\n",
       "[452 rows x 7 columns]"
      ]
     },
     "execution_count": 8,
     "metadata": {},
     "output_type": "execute_result"
    }
   ],
   "source": [
    "# Create a table to put all the results in\n",
    "name = ['5k', '10k', '16.4k', '21.1k', '29.4k','38k']\n",
    "\n",
    "record_box = []\n",
    "\n",
    "# Put the running records into the new table\n",
    "for i in splits_in_sec:\n",
    "    record_box.append(i[:-1])\n",
    "\n",
    "runners_df = pd.DataFrame(record_box, columns = name)\n",
    "runners_df['42.195k'] = fin_in_sec\n",
    "runners_df"
   ]
  },
  {
   "cell_type": "markdown",
   "metadata": {},
   "source": [
    "## Comparison of sub-3 runners and sub-4 runners"
   ]
  },
  {
   "cell_type": "code",
   "execution_count": 9,
   "metadata": {},
   "outputs": [],
   "source": [
    "# Splitting the table for sub-3 runners and sub-4 runners\n",
    "sub_three_df = runners_df[(runners_df['42.195k'] < 3*60*60)].reset_index(drop=True) # sub-3 runners\n",
    "sub_four_df = runners_df[(runners_df['42.195k'] >= 3*60*60) & (runners_df['42.195k'] < 4*60*60)].reset_index(drop=True) # sub-4 runners"
   ]
  },
  {
   "cell_type": "code",
   "execution_count": 10,
   "metadata": {},
   "outputs": [
    {
     "data": {
      "image/png": "[encoded data removed]",
      "text/plain": [
       "<Figure size 432x288 with 1 Axes>"
      ]
     },
     "metadata": {},
     "output_type": "display_data"
    }
   ],
   "source": [
    "# Visualize the sub-3 table with a box plot\n",
    "sub_three_boxplot = sub_three_df.plot.box(grid=True)\n",
    "sub_three_boxplot.plot()\n",
    "plt.show()"
   ]
  },
  {
   "cell_type": "code",
   "execution_count": 11,
   "metadata": {},
   "outputs": [
    {
     "data": {
      "image/png": "[encoded data removed]",
      "text/plain": [
       "<Figure size 432x288 with 1 Axes>"
      ]
     },
     "metadata": {},
     "output_type": "display_data"
    }
   ],
   "source": [
    "# Visualize the sub-4 table with a box plot\n",
    "sub_three_boxplot = sub_four_df.plot.box(grid=True)\n",
    "sub_three_boxplot.plot()\n",
    "plt.show()"
   ]
  },
  {
   "cell_type": "markdown",
   "metadata": {},
   "source": [
    "From here, I'm going refer to the 29.4k point as the pace separator because it's my point of interest in this study."
   ]
  },
  {
   "cell_type": "code",
   "execution_count": 12,
   "metadata": {},
   "outputs": [],
   "source": [
    "# Average speed until 29.4k in \"second/km\" among sub-3 runners\n",
    "sub_three_before = sub_three_df['29.4k']/29.4\n",
    "\n",
    "# Average speed after 29.4k in \"second/km\" among sub-3 runners\n",
    "sub_three_after = (sub_three_df['42.195k']-sub_three_df['29.4k'])/(42.195-29.4)"
   ]
  },
  {
   "cell_type": "code",
   "execution_count": 13,
   "metadata": {},
   "outputs": [],
   "source": [
    "# Average speed until 29.4k in \"second/km\" among sub-4 runners\n",
    "sub_four_before = sub_four_df['29.4k']/29.4\n",
    "\n",
    "# Average speed after 29,4k in \"second/km\" among sub-4 runners\n",
    "sub_four_after = (sub_four_df['42.195k']-sub_four_df['29.4k'])/(42.195-29.4)"
   ]
  },
  {
   "cell_type": "code",
   "execution_count": 14,
   "metadata": {},
   "outputs": [
    {
     "data": {
      "text/plain": [
       "Ttest_relResult(statistic=-4.734548594370066, pvalue=6.216388697912961e-05)"
      ]
     },
     "execution_count": 14,
     "metadata": {},
     "output_type": "execute_result"
    }
   ],
   "source": [
    "# Statistical test: comparing the before-and-after paces as dependant variables\n",
    "from scipy import stats\n",
    "stats.ttest_rel(sub_three_before, sub_three_after)"
   ]
  },
  {
   "cell_type": "code",
   "execution_count": 15,
   "metadata": {},
   "outputs": [
    {
     "data": {
      "text/plain": [
       "Ttest_relResult(statistic=-15.383378920964399, pvalue=9.901668088513279e-43)"
      ]
     },
     "execution_count": 15,
     "metadata": {},
     "output_type": "execute_result"
    }
   ],
   "source": [
    "stats.ttest_rel(sub_four_before, sub_four_after)"
   ]
  },
  {
   "cell_type": "markdown",
   "metadata": {},
   "source": [
    "## Conclusion"
   ]
  },
  {
   "cell_type": "markdown",
   "metadata": {},
   "source": [
    "Both cases show extremely small p-values with far less than 0.01. P<0.01<α, therefore at 99% confidence level, I reject the Null Hyposis 1 and Null Hypothesis 2. ***Average running speed is significantly different before and after 29.4k both in sub-3 and sub-4 runners***."
   ]
  },
  {
   "cell_type": "markdown",
   "metadata": {},
   "source": [
    "## Average paces"
   ]
  },
  {
   "cell_type": "markdown",
   "metadata": {},
   "source": [
    "Nontheless, even with a slower average speed for the last several kilometers in many cases, sub-3 runners still manage to run a full-marathon under 3 hours. So how fast did the sub-3 runners from Reykjavik Marathon 2019 run?"
   ]
  },
  {
   "cell_type": "code",
   "execution_count": 16,
   "metadata": {},
   "outputs": [],
   "source": [
    "# Function to convert running time in seconds to min/km\n",
    "\n",
    "def minute_per_km(seconds):\n",
    "    m, s = divmod(np.mean(seconds), 60)\n",
    "    m = round(m)\n",
    "    s = round(s)\n",
    "    if s < 10:\n",
    "        text = str(m) + \":0\" + str(s) + \" min/km\"\n",
    "    else:\n",
    "        text = str(m) + \":\" + str(s) + \" min/km\"\n",
    "\n",
    "    return text"
   ]
  },
  {
   "cell_type": "code",
   "execution_count": 17,
   "metadata": {},
   "outputs": [
    {
     "data": {
      "text/plain": [
       "'4:00 min/km'"
      ]
     },
     "execution_count": 17,
     "metadata": {},
     "output_type": "execute_result"
    }
   ],
   "source": [
    "minute_per_km(sub_three_before) # Incredible!"
   ]
  },
  {
   "cell_type": "code",
   "execution_count": 18,
   "metadata": {},
   "outputs": [
    {
     "data": {
      "text/plain": [
       "'4:13 min/km'"
      ]
     },
     "execution_count": 18,
     "metadata": {},
     "output_type": "execute_result"
    }
   ],
   "source": [
    "minute_per_km(sub_three_after) # Wow, still very fast!"
   ]
  },
  {
   "cell_type": "code",
   "execution_count": 19,
   "metadata": {},
   "outputs": [
    {
     "data": {
      "text/plain": [
       "'5:05 min/km'"
      ]
     },
     "execution_count": 19,
     "metadata": {},
     "output_type": "execute_result"
    }
   ],
   "source": [
    "minute_per_km(sub_four_before) # Not too bad!"
   ]
  },
  {
   "cell_type": "code",
   "execution_count": 20,
   "metadata": {},
   "outputs": [
    {
     "data": {
      "text/plain": [
       "'5:25 min/km'"
      ]
     },
     "execution_count": 20,
     "metadata": {},
     "output_type": "execute_result"
    }
   ],
   "source": [
    "minute_per_km(sub_four_after) # well, we might have slowed down, but we didn't give up!"
   ]
  }
 ],
 "metadata": {
  "kernelspec": {
   "display_name": "Python 3",
   "language": "python",
   "name": "python3"
  },
  "language_info": {
   "codemirror_mode": {
    "name": "ipython",
    "version": 3
   },
   "file_extension": ".py",
   "mimetype": "text/x-python",
   "name": "python",
   "nbconvert_exporter": "python",
   "pygments_lexer": "ipython3",
   "version": "3.8.10"
  }
 },
 "nbformat": 4,
 "nbformat_minor": 4
}
